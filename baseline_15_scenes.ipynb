{
  "nbformat": 4,
  "nbformat_minor": 0,
  "metadata": {
    "colab": {
      "name": "baseline_15 scenes.ipynb",
      "provenance": [],
      "collapsed_sections": []
    },
    "kernelspec": {
      "name": "python3",
      "display_name": "Python 3"
    },
    "language_info": {
      "name": "python"
    },
    "accelerator": "GPU"
  },
  "cells": [
    {
      "cell_type": "markdown",
      "source": [
        "## This is the first model based on a CNN architecture with a little bad accuracy and the model seems overfit."
      ],
      "metadata": {
        "id": "Gy5Yl8GL3e1A"
      }
    },
    {
      "cell_type": "code",
      "execution_count": null,
      "metadata": {
        "id": "YXNqDjiEmNdQ"
      },
      "outputs": [],
      "source": [
        "### import libraries\n",
        "import keras\n",
        "import keras.utils\n",
        "import matplotlib.pyplot as plt\n",
        "from keras.models import Sequential\n",
        "from tensorflow.keras.optimizers import Adam\n",
        "from keras.layers import Dense, Dropout, Activation, MaxPool2D, Flatten\n",
        "from keras.layers.convolutional import Conv2D\n",
        "from tensorflow.keras.layers import (\n",
        "     MaxPooling2D)\n",
        "from tensorflow.keras.optimizers import SGD\n",
        "import tensorflow as tf\n",
        "import numpy as np\n",
        "import matplotlib.pyplot as plt\n",
        "import numpy as np\n",
        "import cv2\n",
        "import os"
      ]
    },
    {
      "cell_type": "markdown",
      "source": [
        "### Preparing the data"
      ],
      "metadata": {
        "id": "jIr_F4b-E5aS"
      }
    },
    {
      "cell_type": "code",
      "source": [
        "from google.colab import drive\n",
        "drive.mount('/content/drive')"
      ],
      "metadata": {
        "colab": {
          "base_uri": "https://localhost:8080/"
        },
        "id": "1zeV5FhktRTB",
        "outputId": "f65077f8-2f29-45a6-ffaa-a4d43cee5c26"
      },
      "execution_count": null,
      "outputs": [
        {
          "output_type": "stream",
          "name": "stdout",
          "text": [
            "Drive already mounted at /content/drive; to attempt to forcibly remount, call drive.mount(\"/content/drive\", force_remount=True).\n"
          ]
        }
      ]
    },
    {
      "cell_type": "code",
      "source": [
        "DATASET_PATH = '/content/drive/MyDrive/15-Scene Image Dataset/15-Scene/'\n",
        "\n",
        "one_hot_lookup = np.eye(15) # 15 classes\n",
        "\n",
        "dataset_x = []\n",
        "dataset_y = []\n",
        "\n",
        "for category in sorted(os.listdir(DATASET_PATH)):\n",
        "    print('loading category: '+str(int(category)))\n",
        "    for fname in os.listdir(DATASET_PATH+category):\n",
        "        img = cv2.imread(DATASET_PATH+category+'/'+fname, 2)\n",
        "        img = cv2.resize(img, (224,224))\n",
        "        dataset_x.append(np.reshape(img, [224,224,1]))\n",
        "        dataset_y.append(np.reshape(one_hot_lookup[int(category)], [15]))\n",
        "\n",
        "dataset_x = np.array(dataset_x)\n",
        "dataset_y = np.array(dataset_y)\n",
        "#### shuffling dataset\n",
        "p = np.random.permutation(len(dataset_x))\n",
        "dataset_x = dataset_x[p]\n",
        "dataset_y = dataset_y[p]\n",
        "        \n",
        "X_test = dataset_x[:int(len(dataset_x)/10)]\n",
        "Y_test = dataset_y[:int(len(dataset_x)/10)]\n",
        "X_train = dataset_x[int(len(dataset_x)/10):]\n",
        "Y_train = dataset_y[int(len(dataset_x)/10):]"
      ],
      "metadata": {
        "colab": {
          "base_uri": "https://localhost:8080/"
        },
        "id": "Nsux7lSNm-bS",
        "outputId": "02a7e641-ca87-4083-b341-474a836dae32"
      },
      "execution_count": null,
      "outputs": [
        {
          "output_type": "stream",
          "name": "stdout",
          "text": [
            "loading category: 0\n",
            "loading category: 1\n",
            "loading category: 2\n",
            "loading category: 3\n",
            "loading category: 4\n",
            "loading category: 5\n",
            "loading category: 6\n",
            "loading category: 7\n",
            "loading category: 8\n",
            "loading category: 9\n",
            "loading category: 10\n",
            "loading category: 11\n",
            "loading category: 12\n",
            "loading category: 13\n",
            "loading category: 14\n"
          ]
        }
      ]
    },
    {
      "cell_type": "markdown",
      "source": [
        "### Modelling "
      ],
      "metadata": {
        "id": "7pJkXqsGE_UP"
      }
    },
    {
      "cell_type": "code",
      "source": [
        "### Model architecture\n",
        "from keras.backend import learning_phase\n",
        "batch_size = 128\n",
        "num_classes = 15\n",
        "epochs = 100\n",
        "img_rows, img_cols = X_train.shape[1],X_train.shape[2]\n",
        "input_shape = (img_rows, img_cols, 1)\n",
        "model = Sequential()\n",
        "model.add(Conv2D(filters = 32, kernel_size = (3,3),padding = 'Same', \n",
        "                     activation ='relu', input_shape = input_shape))\n",
        "model.add(Conv2D(filters = 32, kernel_size = (3,3),padding = 'Same', \n",
        "                     activation ='relu'))\n",
        "model.add(MaxPool2D(pool_size=(2,2)))\n",
        "model.add(Dropout(0.3))\n",
        "model.add(Conv2D(filters = 64, kernel_size = (3,3),padding = 'Same', \n",
        "                     activation ='relu'))\n",
        "model.add(Conv2D(filters = 64, kernel_size = (3,3),padding = 'Same', \n",
        "                     activation ='relu'))\n",
        "model.add(MaxPool2D(pool_size=(2,2)))\n",
        "model.add(Dropout(0.3))\n",
        "model.add(Conv2D(filters = 128, kernel_size = (3,3),padding = 'Same', \n",
        "                     activation ='relu'))\n",
        "model.add(Conv2D(filters = 128, kernel_size = (3,3),padding = 'Same', \n",
        "                     activation ='relu'))\n",
        "model.add(MaxPool2D(pool_size=(2,2)))\n",
        "model.add(Dropout(0.3))\n",
        "model.add(Flatten())\n",
        "model.add(Dense(1024, activation = \"relu\"))\n",
        "model.add(Dropout(0.5))\n",
        "model.add(Dense(512, activation = \"relu\"))\n",
        "model.add(Dropout(0.4))\n",
        "model.add(Dense(15, activation = \"softmax\"))\n",
        "# Defining the optimizer\n",
        "#optimizer = tf.keras.optimizers.SGD(learning_rate=0.01)\n",
        "\n",
        "callback = tf.keras.callbacks.EarlyStopping(monitor='loss', patience=5)\n",
        "optimizer = Adam(learning_rate=0.001, decay=1e-6)\n",
        "## Model compile\n",
        "model.compile(optimizer = optimizer , loss = \"categorical_crossentropy\", metrics=[\"accuracy\"])\n",
        "model.summary()\n",
        "    \n",
        "history = model.fit(X_train, Y_train, validation_data=(X_test, Y_test),batch_size=64, epochs=epochs, callbacks=[callback])\n",
        "score = model.evaluate(X_test,Y_test, verbose=1)\n",
        "print('\\nAccuracy:', score[1])\n"
      ],
      "metadata": {
        "id": "4uf0FcyRpM9A",
        "colab": {
          "base_uri": "https://localhost:8080/"
        },
        "outputId": "b9ee6071-7f03-45bc-eeb6-d36bdefa40de"
      },
      "execution_count": null,
      "outputs": [
        {
          "output_type": "stream",
          "name": "stdout",
          "text": [
            "Model: \"sequential\"\n",
            "_________________________________________________________________\n",
            " Layer (type)                Output Shape              Param #   \n",
            "=================================================================\n",
            " conv2d (Conv2D)             (None, 224, 224, 32)      320       \n",
            "                                                                 \n",
            " conv2d_1 (Conv2D)           (None, 224, 224, 32)      9248      \n",
            "                                                                 \n",
            " max_pooling2d (MaxPooling2D  (None, 112, 112, 32)     0         \n",
            " )                                                               \n",
            "                                                                 \n",
            " dropout (Dropout)           (None, 112, 112, 32)      0         \n",
            "                                                                 \n",
            " conv2d_2 (Conv2D)           (None, 112, 112, 64)      18496     \n",
            "                                                                 \n",
            " conv2d_3 (Conv2D)           (None, 112, 112, 64)      36928     \n",
            "                                                                 \n",
            " max_pooling2d_1 (MaxPooling  (None, 56, 56, 64)       0         \n",
            " 2D)                                                             \n",
            "                                                                 \n",
            " dropout_1 (Dropout)         (None, 56, 56, 64)        0         \n",
            "                                                                 \n",
            " conv2d_4 (Conv2D)           (None, 56, 56, 128)       73856     \n",
            "                                                                 \n",
            " conv2d_5 (Conv2D)           (None, 56, 56, 128)       147584    \n",
            "                                                                 \n",
            " max_pooling2d_2 (MaxPooling  (None, 28, 28, 128)      0         \n",
            " 2D)                                                             \n",
            "                                                                 \n",
            " dropout_2 (Dropout)         (None, 28, 28, 128)       0         \n",
            "                                                                 \n",
            " flatten (Flatten)           (None, 100352)            0         \n",
            "                                                                 \n",
            " dense (Dense)               (None, 1024)              102761472 \n",
            "                                                                 \n",
            " dropout_3 (Dropout)         (None, 1024)              0         \n",
            "                                                                 \n",
            " dense_1 (Dense)             (None, 512)               524800    \n",
            "                                                                 \n",
            " dropout_4 (Dropout)         (None, 512)               0         \n",
            "                                                                 \n",
            " dense_2 (Dense)             (None, 15)                7695      \n",
            "                                                                 \n",
            "=================================================================\n",
            "Total params: 103,580,399\n",
            "Trainable params: 103,580,399\n",
            "Non-trainable params: 0\n",
            "_________________________________________________________________\n",
            "Epoch 1/100\n",
            "64/64 [==============================] - 41s 543ms/step - loss: 8.6042 - accuracy: 0.0892 - val_loss: 2.6972 - val_accuracy: 0.0938\n",
            "Epoch 2/100\n",
            "64/64 [==============================] - 34s 528ms/step - loss: 2.6967 - accuracy: 0.0917 - val_loss: 2.6863 - val_accuracy: 0.0938\n",
            "Epoch 3/100\n",
            "64/64 [==============================] - 34s 529ms/step - loss: 2.6916 - accuracy: 0.0892 - val_loss: 2.6784 - val_accuracy: 0.0938\n",
            "Epoch 4/100\n",
            "64/64 [==============================] - 34s 529ms/step - loss: 2.6911 - accuracy: 0.0921 - val_loss: 2.6793 - val_accuracy: 0.0938\n",
            "Epoch 5/100\n",
            "64/64 [==============================] - 34s 529ms/step - loss: 2.6794 - accuracy: 0.1018 - val_loss: 2.6490 - val_accuracy: 0.1071\n",
            "Epoch 6/100\n",
            "64/64 [==============================] - 34s 529ms/step - loss: 2.6364 - accuracy: 0.1224 - val_loss: 2.6127 - val_accuracy: 0.1138\n",
            "Epoch 7/100\n",
            "64/64 [==============================] - 34s 529ms/step - loss: 2.5461 - accuracy: 0.1484 - val_loss: 2.9555 - val_accuracy: 0.1362\n",
            "Epoch 8/100\n",
            "64/64 [==============================] - 34s 529ms/step - loss: 2.3575 - accuracy: 0.2244 - val_loss: 2.2807 - val_accuracy: 0.2969\n",
            "Epoch 9/100\n",
            "64/64 [==============================] - 34s 531ms/step - loss: 2.0766 - accuracy: 0.3347 - val_loss: 1.9713 - val_accuracy: 0.3750\n",
            "Epoch 10/100\n",
            "64/64 [==============================] - 34s 530ms/step - loss: 1.8538 - accuracy: 0.4132 - val_loss: 1.9076 - val_accuracy: 0.4040\n",
            "Epoch 11/100\n",
            "64/64 [==============================] - 34s 530ms/step - loss: 1.6871 - accuracy: 0.4523 - val_loss: 2.5057 - val_accuracy: 0.2210\n",
            "Epoch 12/100\n",
            "64/64 [==============================] - 34s 528ms/step - loss: 1.6233 - accuracy: 0.4838 - val_loss: 1.9130 - val_accuracy: 0.4085\n",
            "Epoch 13/100\n",
            "64/64 [==============================] - 34s 528ms/step - loss: 1.3462 - accuracy: 0.5695 - val_loss: 1.9850 - val_accuracy: 0.4085\n",
            "Epoch 14/100\n",
            "64/64 [==============================] - 34s 530ms/step - loss: 1.0999 - accuracy: 0.6465 - val_loss: 1.7988 - val_accuracy: 0.4487\n",
            "Epoch 15/100\n",
            "64/64 [==============================] - 34s 530ms/step - loss: 0.8440 - accuracy: 0.7293 - val_loss: 1.8971 - val_accuracy: 0.4688\n",
            "Epoch 16/100\n",
            "64/64 [==============================] - 34s 529ms/step - loss: 0.6739 - accuracy: 0.7823 - val_loss: 1.7503 - val_accuracy: 0.4487\n",
            "Epoch 17/100\n",
            "64/64 [==============================] - 34s 528ms/step - loss: 0.5126 - accuracy: 0.8370 - val_loss: 1.9732 - val_accuracy: 0.4554\n",
            "Epoch 18/100\n",
            "64/64 [==============================] - 34s 528ms/step - loss: 0.4448 - accuracy: 0.8558 - val_loss: 2.0045 - val_accuracy: 0.4799\n",
            "Epoch 19/100\n",
            "64/64 [==============================] - 34s 530ms/step - loss: 0.3398 - accuracy: 0.8895 - val_loss: 2.0095 - val_accuracy: 0.4955\n",
            "Epoch 20/100\n",
            "64/64 [==============================] - 34s 529ms/step - loss: 0.3204 - accuracy: 0.9036 - val_loss: 2.0089 - val_accuracy: 0.4821\n",
            "Epoch 21/100\n",
            "64/64 [==============================] - 34s 529ms/step - loss: 0.2497 - accuracy: 0.9259 - val_loss: 2.3019 - val_accuracy: 0.4621\n",
            "Epoch 22/100\n",
            "64/64 [==============================] - 34s 529ms/step - loss: 0.2175 - accuracy: 0.9316 - val_loss: 2.0496 - val_accuracy: 0.4777\n",
            "Epoch 23/100\n",
            "64/64 [==============================] - 34s 529ms/step - loss: 0.2066 - accuracy: 0.9368 - val_loss: 2.1895 - val_accuracy: 0.4955\n",
            "Epoch 24/100\n",
            "64/64 [==============================] - 34s 529ms/step - loss: 0.1761 - accuracy: 0.9445 - val_loss: 2.3160 - val_accuracy: 0.4888\n",
            "Epoch 25/100\n",
            "64/64 [==============================] - 34s 530ms/step - loss: 0.2153 - accuracy: 0.9331 - val_loss: 2.2700 - val_accuracy: 0.5022\n",
            "Epoch 26/100\n",
            "64/64 [==============================] - 34s 529ms/step - loss: 0.1417 - accuracy: 0.9569 - val_loss: 2.0784 - val_accuracy: 0.4933\n",
            "Epoch 27/100\n",
            "64/64 [==============================] - 34s 530ms/step - loss: 0.1329 - accuracy: 0.9591 - val_loss: 2.1040 - val_accuracy: 0.4978\n",
            "Epoch 28/100\n",
            "64/64 [==============================] - 34s 529ms/step - loss: 0.1317 - accuracy: 0.9601 - val_loss: 2.2723 - val_accuracy: 0.4955\n",
            "Epoch 29/100\n",
            "64/64 [==============================] - 34s 529ms/step - loss: 0.1452 - accuracy: 0.9599 - val_loss: 2.1548 - val_accuracy: 0.5379\n",
            "Epoch 30/100\n",
            "64/64 [==============================] - 34s 529ms/step - loss: 0.1268 - accuracy: 0.9626 - val_loss: 2.1180 - val_accuracy: 0.5045\n",
            "Epoch 31/100\n",
            "64/64 [==============================] - 34s 529ms/step - loss: 0.0811 - accuracy: 0.9780 - val_loss: 2.6109 - val_accuracy: 0.4598\n",
            "Epoch 32/100\n",
            "64/64 [==============================] - 34s 529ms/step - loss: 0.0959 - accuracy: 0.9713 - val_loss: 2.3363 - val_accuracy: 0.4911\n",
            "Epoch 33/100\n",
            "64/64 [==============================] - 34s 530ms/step - loss: 0.0789 - accuracy: 0.9762 - val_loss: 2.3761 - val_accuracy: 0.4754\n",
            "Epoch 34/100\n",
            "64/64 [==============================] - 34s 529ms/step - loss: 0.1032 - accuracy: 0.9705 - val_loss: 2.1803 - val_accuracy: 0.5067\n",
            "Epoch 35/100\n",
            "64/64 [==============================] - 34s 529ms/step - loss: 0.0981 - accuracy: 0.9730 - val_loss: 2.3119 - val_accuracy: 0.5089\n",
            "Epoch 36/100\n",
            "64/64 [==============================] - 34s 530ms/step - loss: 0.0851 - accuracy: 0.9760 - val_loss: 2.3602 - val_accuracy: 0.4754\n",
            "Epoch 37/100\n",
            "64/64 [==============================] - 34s 530ms/step - loss: 0.0805 - accuracy: 0.9772 - val_loss: 2.6107 - val_accuracy: 0.4643\n",
            "Epoch 38/100\n",
            "64/64 [==============================] - 34s 529ms/step - loss: 0.0778 - accuracy: 0.9752 - val_loss: 2.5308 - val_accuracy: 0.5223\n",
            "Epoch 39/100\n",
            "64/64 [==============================] - 34s 529ms/step - loss: 0.0796 - accuracy: 0.9780 - val_loss: 2.2361 - val_accuracy: 0.4888\n",
            "Epoch 40/100\n",
            "64/64 [==============================] - 34s 528ms/step - loss: 0.0736 - accuracy: 0.9777 - val_loss: 2.4135 - val_accuracy: 0.5045\n",
            "Epoch 41/100\n",
            "64/64 [==============================] - 34s 530ms/step - loss: 0.0783 - accuracy: 0.9775 - val_loss: 2.4307 - val_accuracy: 0.5045\n",
            "Epoch 42/100\n",
            "64/64 [==============================] - 34s 528ms/step - loss: 0.1060 - accuracy: 0.9680 - val_loss: 2.3883 - val_accuracy: 0.5268\n",
            "Epoch 43/100\n",
            "64/64 [==============================] - 34s 529ms/step - loss: 0.0927 - accuracy: 0.9767 - val_loss: 2.0601 - val_accuracy: 0.5312\n",
            "Epoch 44/100\n",
            "64/64 [==============================] - 34s 530ms/step - loss: 0.0505 - accuracy: 0.9829 - val_loss: 2.6648 - val_accuracy: 0.4799\n",
            "Epoch 45/100\n",
            "64/64 [==============================] - 34s 530ms/step - loss: 0.0864 - accuracy: 0.9784 - val_loss: 2.1569 - val_accuracy: 0.4955\n",
            "Epoch 46/100\n",
            "64/64 [==============================] - 34s 530ms/step - loss: 0.0699 - accuracy: 0.9807 - val_loss: 2.1315 - val_accuracy: 0.5201\n",
            "Epoch 47/100\n",
            "64/64 [==============================] - 34s 530ms/step - loss: 0.0718 - accuracy: 0.9804 - val_loss: 2.1377 - val_accuracy: 0.4933\n",
            "Epoch 48/100\n",
            "64/64 [==============================] - 34s 529ms/step - loss: 0.0767 - accuracy: 0.9782 - val_loss: 2.0735 - val_accuracy: 0.5179\n",
            "Epoch 49/100\n",
            "64/64 [==============================] - 34s 529ms/step - loss: 0.0413 - accuracy: 0.9866 - val_loss: 2.5520 - val_accuracy: 0.4799\n",
            "Epoch 50/100\n",
            "64/64 [==============================] - 34s 528ms/step - loss: 0.0580 - accuracy: 0.9859 - val_loss: 2.2360 - val_accuracy: 0.4955\n",
            "Epoch 51/100\n",
            "64/64 [==============================] - 34s 530ms/step - loss: 0.0349 - accuracy: 0.9901 - val_loss: 2.3530 - val_accuracy: 0.5022\n",
            "Epoch 52/100\n",
            "64/64 [==============================] - 34s 529ms/step - loss: 0.0873 - accuracy: 0.9745 - val_loss: 2.2723 - val_accuracy: 0.4933\n",
            "Epoch 53/100\n",
            "64/64 [==============================] - 34s 530ms/step - loss: 0.0747 - accuracy: 0.9797 - val_loss: 2.3128 - val_accuracy: 0.4911\n",
            "Epoch 54/100\n",
            "64/64 [==============================] - 34s 528ms/step - loss: 0.0640 - accuracy: 0.9839 - val_loss: 2.0830 - val_accuracy: 0.5045\n",
            "Epoch 55/100\n",
            "64/64 [==============================] - 34s 528ms/step - loss: 0.0578 - accuracy: 0.9851 - val_loss: 1.9808 - val_accuracy: 0.5112\n",
            "Epoch 56/100\n",
            "64/64 [==============================] - 34s 530ms/step - loss: 0.0620 - accuracy: 0.9814 - val_loss: 2.3762 - val_accuracy: 0.5156\n",
            "14/14 [==============================] - 3s 95ms/step - loss: 2.3762 - accuracy: 0.5156\n",
            "\n",
            "Accuracy: 0.515625\n"
          ]
        }
      ]
    },
    {
      "cell_type": "markdown",
      "source": [
        "### Plotting the accuracies"
      ],
      "metadata": {
        "id": "LkdSax2nFCVU"
      }
    },
    {
      "cell_type": "code",
      "source": [
        "# Ploting training & validation accuracy value\n",
        "\n",
        "plt.plot(history.history['accuracy'])\n",
        "plt.plot(history.history['val_accuracy'])\n",
        "plt.title('Model accuracy')\n",
        "plt.ylabel('Accuracy')\n",
        "plt.xlabel('Epoch')\n",
        "plt.legend(['Train', 'Test'], loc='upper left')\n",
        "plt.show()\n",
        "    \n",
        "# Ploting training & validation loss values\n",
        "\n",
        "plt.plot(history.history['loss'])\n",
        "plt.plot(history.history['val_loss'])\n",
        "plt.title('Model loss')\n",
        "plt.ylabel('Loss')\n",
        "plt.xlabel('Epoch')\n",
        "plt.legend(['Train', 'Test'], loc='upper left')\n",
        "plt.show()"
      ],
      "metadata": {
        "colab": {
          "base_uri": "https://localhost:8080/",
          "height": 573
        },
        "id": "aSFhtCE2ijQ1",
        "outputId": "cd6d456e-31b4-42b0-ce44-025c42ead2f9"
      },
      "execution_count": null,
      "outputs": [
        {
          "output_type": "display_data",
          "data": {
            "text/plain": [
              "<Figure size 432x288 with 1 Axes>"
            ],
            "image/png": "[encoded data removed]"
          },
          "metadata": {
            "needs_background": "light"
          }
        },
        {
          "output_type": "display_data",
          "data": {
            "text/plain": [
              "<Figure size 432x288 with 1 Axes>"
            ],
            "image/png": "[encoded data removed]"
          },
          "metadata": {
            "needs_background": "light"
          }
        }
      ]
    }
  ]
}